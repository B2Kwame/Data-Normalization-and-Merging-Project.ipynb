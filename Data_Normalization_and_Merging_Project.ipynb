{
  "nbformat": 4,
  "nbformat_minor": 0,
  "metadata": {
    "colab": {
      "provenance": [],
      "authorship_tag": "ABX9TyO2qNzlhqKwVeHLtK4Em5KI",
      "include_colab_link": true
    },
    "kernelspec": {
      "name": "python3",
      "display_name": "Python 3"
    },
    "language_info": {
      "name": "python"
    }
  },
  "cells": [
    {
      "cell_type": "markdown",
      "metadata": {
        "id": "view-in-github",
        "colab_type": "text"
      },
      "source": [
        "<a href=\"https://colab.research.google.com/github/B2Kwame/Data-Normalization-and-Merging-Project.ipynb/blob/main/Data_Normalization_and_Merging_Project.ipynb\" target=\"_parent\"><img src=\"https://colab.research.google.com/assets/colab-badge.svg\" alt=\"Open In Colab\"/></a>"
      ]
    },
    {
      "cell_type": "code",
      "source": [
        "pip install pandas openpyxl"
      ],
      "metadata": {
        "colab": {
          "base_uri": "https://localhost:8080/"
        },
        "id": "lSxJx6e0UOK1",
        "outputId": "cda60338-ba3a-418b-aadc-fa5ea14b9917"
      },
      "execution_count": null,
      "outputs": [
        {
          "output_type": "stream",
          "name": "stdout",
          "text": [
            "Requirement already satisfied: pandas in /usr/local/lib/python3.10/dist-packages (2.0.3)\n",
            "Requirement already satisfied: openpyxl in /usr/local/lib/python3.10/dist-packages (3.1.2)\n",
            "Requirement already satisfied: python-dateutil>=2.8.2 in /usr/local/lib/python3.10/dist-packages (from pandas) (2.8.2)\n",
            "Requirement already satisfied: pytz>=2020.1 in /usr/local/lib/python3.10/dist-packages (from pandas) (2023.4)\n",
            "Requirement already satisfied: tzdata>=2022.1 in /usr/local/lib/python3.10/dist-packages (from pandas) (2024.1)\n",
            "Requirement already satisfied: numpy>=1.21.0 in /usr/local/lib/python3.10/dist-packages (from pandas) (1.25.2)\n",
            "Requirement already satisfied: et-xmlfile in /usr/local/lib/python3.10/dist-packages (from openpyxl) (1.1.0)\n",
            "Requirement already satisfied: six>=1.5 in /usr/local/lib/python3.10/dist-packages (from python-dateutil>=2.8.2->pandas) (1.16.0)\n"
          ]
        }
      ]
    },
    {
      "cell_type": "code",
      "execution_count": null,
      "metadata": {
        "id": "Y3PZthXtQivl"
      },
      "outputs": [],
      "source": [
        "import pandas as pd"
      ]
    },
    {
      "cell_type": "code",
      "source": [
        "# Function to normalize names\n",
        "def normalize_name(name):\n",
        "    if pd.isna(name) or not isinstance(name, str):\n",
        "        return name  # Return as is if NaN or not a string\n",
        "    return ' '.join(sorted(name.lower().split()))"
      ],
      "metadata": {
        "id": "7540BLO9Y72K"
      },
      "execution_count": null,
      "outputs": []
    },
    {
      "cell_type": "code",
      "source": [
        "# Load the multi-sheet Excel file\n",
        "xls = pd.ExcelFile('FREESHS.xlsx')"
      ],
      "metadata": {
        "id": "h9sGmIRdRdgH"
      },
      "execution_count": null,
      "outputs": []
    },
    {
      "source": [
        "# Get the list of valid sheet names\n",
        "sheet_names = xls.sheet_names\n",
        "\n",
        "# Combine all sheets into one DataFrame\n",
        "df_multi = pd.concat({sheet_name: xls.parse(sheet_name) for sheet_name in sheet_names}, ignore_index=True)"
      ],
      "cell_type": "code",
      "metadata": {
        "id": "9qCVzd_3V2rH"
      },
      "execution_count": null,
      "outputs": []
    },
    {
      "cell_type": "code",
      "source": [
        "# Load the single-sheet Excel file\n",
        "df_single = pd.read_csv('RegistrantsACM.csv')"
      ],
      "metadata": {
        "id": "So-ggqEXRlmT"
      },
      "execution_count": null,
      "outputs": []
    },
    {
      "cell_type": "code",
      "source": [
        "# Define the key column names for both dataframes\n",
        "key_column_multi = 'Student_Name'  # Change to your actual column name in multi-sheet file\n",
        "key_column_single = 'NAME'  # Change to your actual column name in single-sheet file"
      ],
      "metadata": {
        "id": "kNNyqaYLRmzG"
      },
      "execution_count": null,
      "outputs": []
    },
    {
      "source": [
        "print(df_multi.columns)\n",
        "print(df_single.columns)"
      ],
      "cell_type": "code",
      "metadata": {
        "colab": {
          "base_uri": "https://localhost:8080/"
        },
        "id": "Ty4JghAvWWWR",
        "outputId": "54182e97-e36b-4b1e-841a-8641c1cba4ec"
      },
      "execution_count": null,
      "outputs": [
        {
          "output_type": "stream",
          "name": "stdout",
          "text": [
            "Index(['Region', 'District', 'Student_Name', 'Age', 'Age 2024 (6)',\n",
            "       'Age 2024 (7)', 'Guardian Mobile_1', 'STATUS', 'Registration #',\n",
            "       'School', 'Unnamed: 3', 'Guardian', 'Mobile1', 'Mobile 2', 'Mobile'],\n",
            "      dtype='object')\n",
            "Index(['Voter Id', 'NAME', 'FATHER NAME', 'MOTHER NAME', 'CONTACT', 'Age',\n",
            "       'DATE OF BIRTH', 'GENDER', 'TOWN', 'REGION', 'DISTRICT',\n",
            "       'POLLING STATION CODE', 'POLLING STATION NAME'],\n",
            "      dtype='object')\n"
          ]
        }
      ]
    },
    {
      "cell_type": "code",
      "source": [
        "# Apply normalization to the names in both dataframes\n",
        "df_multi['normalized_name'] = df_multi[key_column_multi].apply(normalize_name)\n",
        "df_single['normalized_name'] = df_single[key_column_single].apply(normalize_name)"
      ],
      "metadata": {
        "id": "UstiDxHZZHKJ"
      },
      "execution_count": null,
      "outputs": []
    },
    {
      "source": [
        "print(df_multi[key_column_multi].head())\n",
        "print(df_single[key_column_single].head())"
      ],
      "cell_type": "code",
      "metadata": {
        "colab": {
          "base_uri": "https://localhost:8080/"
        },
        "id": "wko_OmcxWYIj",
        "outputId": "90bf82b1-5b1f-447e-978c-fce5c8d58d41"
      },
      "execution_count": null,
      "outputs": [
        {
          "output_type": "stream",
          "name": "stdout",
          "text": [
            "0    IBRAHIM SHARIFA OKYEREWA\n",
            "1           ALHASSAN SHAIMAWU\n",
            "2             MORO DAUDA KOFI\n",
            "3                 AMINA AMIDU\n",
            "4        ASSUAH JANET NKROMAH\n",
            "Name: Student_Name, dtype: object\n",
            "0           EDMOND KOFI APPIAH\n",
            "1                 DIANA MENSAH\n",
            "2         EMMANUEL BAAH ARTHUR\n",
            "3       KWAKU ASAMOAH-FRIMPONG\n",
            "4     MERCY BOAHEMAAH BOSOMPEM\n",
            "Name: NAME, dtype: object\n"
          ]
        }
      ]
    },
    {
      "source": [
        "common_data = pd.merge(df_multi, df_single, left_on='Student_Name', right_on='NAME')"
      ],
      "cell_type": "code",
      "metadata": {
        "id": "yksTx1lQWZYX"
      },
      "execution_count": null,
      "outputs": []
    },
    {
      "source": [
        "print(common_data.head())"
      ],
      "cell_type": "code",
      "metadata": {
        "id": "G3Cu5MHoWZsE",
        "colab": {
          "base_uri": "https://localhost:8080/"
        },
        "outputId": "69d84a80-6b05-4a88-8ba4-cc29a0c278ff"
      },
      "execution_count": null,
      "outputs": [
        {
          "output_type": "stream",
          "name": "stdout",
          "text": [
            "  Region     District Student_Name  Age_x  Age 2024 (6)  Age 2024 (7)  \\\n",
            "0    NaN        Accra  AKUA BOAKYE     20           NaN           NaN   \n",
            "1    NaN  Accra Metro        OFFEI     21           NaN           NaN   \n",
            "\n",
            "   Guardian Mobile_1 STATUS  Registration #             School  ...  \\\n",
            "0                NaN    NaN             NaN  Ga West Municipal  ...   \n",
            "1                NaN    NaN             NaN                NaN  ...   \n",
            "\n",
            "       CONTACT Age_y  DATE OF BIRTH  GENDER               TOWN         REGION  \\\n",
            "0  208609701.0    20       1/6/1988  Female           MATAHEKO  GREATER ACCRA   \n",
            "1  244123456.0    21       8/9/1990    Male  TOWN COUNCIL LINE  GREATER ACCRA   \n",
            "\n",
            "                  DISTRICT POLLING STATION CODE  \\\n",
            "0  ABLEKUMA CENTRAL MUNICI              C170706   \n",
            "1  ABLEKUMA CENTRAL MUNICI              C170706   \n",
            "\n",
            "                         POLLING STATION NAME normalized_name_y  \n",
            "0  PRESBY PRIMARY SCHOOL. LARTEBIOKORSHIE (2)       akua boakye  \n",
            "1                 CRIPPLES HOME (2). KANESHIE             offei  \n",
            "\n",
            "[2 rows x 30 columns]\n"
          ]
        }
      ]
    },
    {
      "cell_type": "code",
      "source": [
        "# Merging dataframes to find common entries\n",
        "common_data = pd.merge(df_multi, df_single, left_on=key_column_multi, right_on=key_column_single)"
      ],
      "metadata": {
        "id": "f3pkI-cVRqmp"
      },
      "execution_count": null,
      "outputs": []
    },
    {
      "cell_type": "code",
      "source": [
        "# Analysis: For example, count how many entries are common\n",
        "common_count = common_data.shape[0]"
      ],
      "metadata": {
        "id": "dDKTsUR2Rtaz"
      },
      "execution_count": null,
      "outputs": []
    },
    {
      "cell_type": "code",
      "source": [
        "# Optionally, save the result to a new Excel file\n",
        "common_data.to_excel('common_data_output.xlsx', index=False)"
      ],
      "metadata": {
        "id": "cwQBezqVRytZ"
      },
      "execution_count": null,
      "outputs": []
    },
    {
      "cell_type": "code",
      "source": [
        "# Print the result or analysis\n",
        "print(f\"Number of common entries: {common_count}\")\n",
        "print(common_data.head())  # Display first few rows of the common data"
      ],
      "metadata": {
        "id": "g0niMoBSRzhW",
        "colab": {
          "base_uri": "https://localhost:8080/"
        },
        "outputId": "97d12605-8f50-431a-8445-8cb9c4f210f2"
      },
      "execution_count": null,
      "outputs": [
        {
          "output_type": "stream",
          "name": "stdout",
          "text": [
            "Number of common entries: 2\n",
            "  Region     District Student_Name  Age_x  Age 2024 (6)  Age 2024 (7)  \\\n",
            "0    NaN        Accra  AKUA BOAKYE     20           NaN           NaN   \n",
            "1    NaN  Accra Metro        OFFEI     21           NaN           NaN   \n",
            "\n",
            "   Guardian Mobile_1 STATUS  Registration #             School  ...  \\\n",
            "0                NaN    NaN             NaN  Ga West Municipal  ...   \n",
            "1                NaN    NaN             NaN                NaN  ...   \n",
            "\n",
            "       CONTACT Age_y  DATE OF BIRTH  GENDER               TOWN         REGION  \\\n",
            "0  208609701.0    20       1/6/1988  Female           MATAHEKO  GREATER ACCRA   \n",
            "1  244123456.0    21       8/9/1990    Male  TOWN COUNCIL LINE  GREATER ACCRA   \n",
            "\n",
            "                  DISTRICT POLLING STATION CODE  \\\n",
            "0  ABLEKUMA CENTRAL MUNICI              C170706   \n",
            "1  ABLEKUMA CENTRAL MUNICI              C170706   \n",
            "\n",
            "                         POLLING STATION NAME normalized_name_y  \n",
            "0  PRESBY PRIMARY SCHOOL. LARTEBIOKORSHIE (2)       akua boakye  \n",
            "1                 CRIPPLES HOME (2). KANESHIE             offei  \n",
            "\n",
            "[2 rows x 30 columns]\n"
          ]
        }
      ]
    }
  ]
}